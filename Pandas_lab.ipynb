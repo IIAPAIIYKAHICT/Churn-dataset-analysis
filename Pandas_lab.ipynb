{
  "nbformat": 4,
  "nbformat_minor": 0,
  "metadata": {
    "colab": {
      "provenance": []
    },
    "kernelspec": {
      "name": "python3",
      "display_name": "Python 3"
    },
    "language_info": {
      "name": "python"
    },
    "accelerator": "GPU",
    "gpuClass": "standard"
  },
  "cells": [
    {
      "cell_type": "markdown",
      "source": [
        "#Lab 2. Data analysis with Pandas\n",
        "##варіант 3"
      ],
      "metadata": {
        "id": "5WFshCLYI2Bq"
      }
    },
    {
      "cell_type": "markdown",
      "source": [
        "###Завантаження датасету\n"
      ],
      "metadata": {
        "id": "Q4OZ54bjJb6B"
      }
    },
    {
      "cell_type": "markdown",
      "source": [
        "##1)Яка кількість спостережень ( samples , рядків)? Кількість ознак ( features , стовпців)? Чи всі дані повні? Які типи стовпців?"
      ],
      "metadata": {
        "id": "JC_wlVKQK4wM"
      }
    },
    {
      "cell_type": "code",
      "execution_count": null,
      "metadata": {
        "id": "xslcSUyM8dbV"
      },
      "outputs": [],
      "source": [
        "import pandas as pd\n",
        "import numpy as np\n",
        "import matplotlib.pyplot as plt\n"
      ]
    },
    {
      "cell_type": "code",
      "source": [
        "churn_20 = pd.read_csv(\"/content/drive/MyDrive/churn-bigml-20.csv\")\n",
        "churn_80 = pd.read_csv(\"/content/drive/MyDrive/churn-bigml-80.csv\")"
      ],
      "metadata": {
        "id": "GFD3UR-YJm03"
      },
      "execution_count": null,
      "outputs": []
    },
    {
      "cell_type": "markdown",
      "source": [
        "Наш датасет був поділенний на датасети для тренування та тестування моделів машинного навчання, нам треба об'єднати його у один\n"
      ],
      "metadata": {
        "id": "APO0VTJHJz7Q"
      }
    },
    {
      "cell_type": "code",
      "source": [
        "churn = pd.concat([churn_20, churn_80])\n",
        "churn.info()"
      ],
      "metadata": {
        "colab": {
          "base_uri": "https://localhost:8080/"
        },
        "id": "A_uAgnHBJw7G",
        "outputId": "8461248e-ffdf-4cf8-ffb6-2eac28f7df97"
      },
      "execution_count": null,
      "outputs": [
        {
          "output_type": "stream",
          "name": "stdout",
          "text": [
            "<class 'pandas.core.frame.DataFrame'>\n",
            "Int64Index: 3333 entries, 0 to 2665\n",
            "Data columns (total 20 columns):\n",
            " #   Column                  Non-Null Count  Dtype  \n",
            "---  ------                  --------------  -----  \n",
            " 0   State                   3333 non-null   object \n",
            " 1   Account length          3333 non-null   int64  \n",
            " 2   Area code               3333 non-null   int64  \n",
            " 3   International plan      3333 non-null   object \n",
            " 4   Voice mail plan         3333 non-null   object \n",
            " 5   Number vmail messages   3333 non-null   int64  \n",
            " 6   Total day minutes       3333 non-null   float64\n",
            " 7   Total day calls         3333 non-null   int64  \n",
            " 8   Total day charge        3333 non-null   float64\n",
            " 9   Total eve minutes       3333 non-null   float64\n",
            " 10  Total eve calls         3333 non-null   int64  \n",
            " 11  Total eve charge        3333 non-null   float64\n",
            " 12  Total night minutes     3333 non-null   float64\n",
            " 13  Total night calls       3333 non-null   int64  \n",
            " 14  Total night charge      3333 non-null   float64\n",
            " 15  Total intl minutes      3333 non-null   float64\n",
            " 16  Total intl calls        3333 non-null   int64  \n",
            " 17  Total intl charge       3333 non-null   float64\n",
            " 18  Customer service calls  3333 non-null   int64  \n",
            " 19  Churn                   3333 non-null   bool   \n",
            "dtypes: bool(1), float64(8), int64(8), object(3)\n",
            "memory usage: 524.0+ KB\n"
          ]
        }
      ]
    },
    {
      "cell_type": "markdown",
      "source": [
        "Кількість спостережень - 3333, кількість стовпців - 19, типи усіх стовпців ми бачимо зверху\n"
      ],
      "metadata": {
        "id": "b9p8DdH9Ke7k"
      }
    },
    {
      "cell_type": "markdown",
      "source": [
        "##2)Порівняйте штати Каліфорнія ( CA ) та Нью - Йорк ( NY ) за схильністю користувачів підключати послугу international plan."
      ],
      "metadata": {
        "id": "0Cua0q_jLBZc"
      }
    },
    {
      "cell_type": "code",
      "source": [
        "california = churn[churn[\"State\"] == \"CA\"][\"International plan\"]\n",
        "new_york = churn[churn[\"State\"] == \"NY\"][\"International plan\"]\n",
        "print(f\"Каліфорнія:\\n{california.value_counts()}\")\n",
        "print(f\"Нью - Йорк:\\n{new_york.value_counts()}\")"
      ],
      "metadata": {
        "colab": {
          "base_uri": "https://localhost:8080/"
        },
        "id": "TWu1HBgvKeQX",
        "outputId": "6fcf4475-862f-4c11-a872-2481b9824292"
      },
      "execution_count": null,
      "outputs": [
        {
          "output_type": "stream",
          "name": "stdout",
          "text": [
            "Каліфорнія:\n",
            "No     30\n",
            "Yes     4\n",
            "Name: International plan, dtype: int64\n",
            "Нью - Йорк:\n",
            "No     75\n",
            "Yes     8\n",
            "Name: International plan, dtype: int64\n"
          ]
        }
      ]
    },
    {
      "cell_type": "markdown",
      "source": [
        "Можна побачити, що в нас є більше записів для Нью Йорку, щоб побачити схильність, порахуємо відсотки людей що придбали цю послугу"
      ],
      "metadata": {
        "id": "VkOViDYvMfGf"
      }
    },
    {
      "cell_type": "code",
      "source": [
        "print(f\"Відсоток у Каліфорнії:{(california.value_counts()['Yes'] / california.value_counts()['No'])}\")\n",
        "print(f\"Відсоток у Нью Йорку:{(new_york.value_counts()['Yes'] / new_york.value_counts()['No'])}\")\n"
      ],
      "metadata": {
        "colab": {
          "base_uri": "https://localhost:8080/"
        },
        "id": "_ZBfpZPwKXaX",
        "outputId": "2196c9ac-4729-4dd0-801a-f14f7ef8372a"
      },
      "execution_count": null,
      "outputs": [
        {
          "output_type": "stream",
          "name": "stdout",
          "text": [
            "Відсоток у Каліфорнії:0.13333333333333333\n",
            "Відсоток у Нью Йорку:0.10666666666666667\n"
          ]
        }
      ]
    },
    {
      "cell_type": "markdown",
      "source": [
        "З цього випливає, що, хоча у Нью - Йорку більше опитуванних, процент тих кто придбав послугу є більшим у Каліфорнії"
      ],
      "metadata": {
        "id": "OLN9YFfNNxTT"
      }
    },
    {
      "cell_type": "markdown",
      "source": [
        "##3)Яким є розподіл абонентів за цільовою ознакою churn? Візуалізуйте отриману інформацію. Назвіть відсоток лояльних абонентів."
      ],
      "metadata": {
        "id": "ABD5e2pgN_Oh"
      }
    },
    {
      "cell_type": "markdown",
      "source": [
        "Створимо стовпчату діаграмму"
      ],
      "metadata": {
        "id": "FkkTzkf1OoIf"
      }
    },
    {
      "cell_type": "code",
      "source": [
        "churn[\"Churn\"].value_counts().plot(kind=\"bar\")\n",
        "plt.xticks([False, True], [\"Remained\", \"Left\"])\n",
        "\n",
        "plt.show()"
      ],
      "metadata": {
        "colab": {
          "base_uri": "https://localhost:8080/",
          "height": 485
        },
        "id": "wL_rF55ANFNT",
        "outputId": "6e15c530-56ec-4100-b881-fada264712b8"
      },
      "execution_count": null,
      "outputs": [
        {
          "output_type": "display_data",
          "data": {
            "text/plain": [
              "<Figure size 640x480 with 1 Axes>"
            ],
            "image/png": "[encoded data removed]"
          },
          "metadata": {}
        }
      ]
    },
    {
      "cell_type": "markdown",
      "source": [
        "Бачимо, що лояльних клієнтів є набагато більше, порахуємо відсоток\n"
      ],
      "metadata": {
        "id": "aEJp3Z0FQJ5W"
      }
    },
    {
      "cell_type": "code",
      "source": [
        "print(f\"Процент лояльних клієнтів:\\n{1 - churn['Churn'].mean()}\")"
      ],
      "metadata": {
        "colab": {
          "base_uri": "https://localhost:8080/"
        },
        "id": "2twTNnAPOwJm",
        "outputId": "50d789c2-4814-4a7c-f01d-5e1cdacc0b39"
      },
      "execution_count": null,
      "outputs": [
        {
          "output_type": "stream",
          "name": "stdout",
          "text": [
            "Процент лояльних клієнтів:\n",
            "0.8550855085508551\n"
          ]
        }
      ]
    },
    {
      "cell_type": "markdown",
      "source": [
        "##4)Знайдіть частку лояльних абонентів у кожному штаті. Виведіть топ-5 штатів за лояльністю до нашої компанії."
      ],
      "metadata": {
        "id": "iqlKwRVXQ-4l"
      }
    },
    {
      "cell_type": "code",
      "source": [
        "churn_by_state = churn[churn[\"Churn\"] == False].groupby(\"State\")[\"Churn\"].agg(\"count\").sort_values(ascending=False).nlargest(5)\n",
        "churn_by_state"
      ],
      "metadata": {
        "colab": {
          "base_uri": "https://localhost:8080/"
        },
        "id": "tgmlFo8JRG8C",
        "outputId": "85ed7f6c-a25a-46c3-bca2-029a8e86e29f"
      },
      "execution_count": null,
      "outputs": [
        {
          "output_type": "execute_result",
          "data": {
            "text/plain": [
              "State\n",
              "WV    96\n",
              "VA    72\n",
              "AL    72\n",
              "WI    71\n",
              "MN    69\n",
              "Name: Churn, dtype: int64"
            ]
          },
          "metadata": {},
          "execution_count": 38
        }
      ]
    },
    {
      "cell_type": "markdown",
      "source": [
        "##5)Розглянемо ознаку account length (час користування обліковим записом). Яке а) мінімальне; б) максимальне; в) медіанне; г) середнє значення часу користування? Побудуйте гістограму цього стовпця, кількість bins підберіть експериментально."
      ],
      "metadata": {
        "id": "MCfqWAVmTOyv"
      }
    },
    {
      "cell_type": "code",
      "source": [
        "print(f\"Мінімальний час користування:{churn['Account length'].min()}\")\n",
        "print(f\"Максимальний час користування:{churn['Account length'].max()}\")\n",
        "print(f\"Медіанний час користування:{churn['Account length'].median()}\")\n",
        "print(f\"Середній час користування:{churn['Account length'].mean()}\")"
      ],
      "metadata": {
        "colab": {
          "base_uri": "https://localhost:8080/"
        },
        "id": "rMNYuQUTRdti",
        "outputId": "0092d6c0-8c16-4a29-f843-b61e8c1ea5b2"
      },
      "execution_count": null,
      "outputs": [
        {
          "output_type": "stream",
          "name": "stdout",
          "text": [
            "Мінімальний час користування:1\n",
            "Максимальний час користування:243\n",
            "Медіанний час користування:101.0\n",
            "Середній час користування:101.06480648064806\n"
          ]
        }
      ]
    },
    {
      "cell_type": "markdown",
      "source": [
        "Гістограмма"
      ],
      "metadata": {
        "id": "Y6FJFoGiUarz"
      }
    },
    {
      "cell_type": "code",
      "source": [
        "churn[\"Account length\"].plot(kind=\"hist\", bins=15)\n",
        "plt.show()"
      ],
      "metadata": {
        "colab": {
          "base_uri": "https://localhost:8080/",
          "height": 430
        },
        "id": "AAL_g_IqUO_O",
        "outputId": "f29ed898-959a-4bc2-f243-51f7fea90496"
      },
      "execution_count": null,
      "outputs": [
        {
          "output_type": "display_data",
          "data": {
            "text/plain": [
              "<Figure size 640x480 with 1 Axes>"
            ],
            "image/png": "[encoded data removed]"
          },
          "metadata": {}
        }
      ]
    },
    {
      "cell_type": "code",
      "source": [],
      "metadata": {
        "id": "jARw30GyUize"
      },
      "execution_count": null,
      "outputs": []
    },
    {
      "cell_type": "markdown",
      "source": [
        "Бачимо, що розподіл цієї величини є нормальним"
      ],
      "metadata": {
        "id": "OeUnJQbZUyFR"
      }
    },
    {
      "cell_type": "markdown",
      "source": [
        "##6)Жителі якого штату розмовляють телефоном найбільше? менше всього? Зверніть увагу, що нас цікавлять усі види дзвінків, тобто. нам знадобиться додатковий стовпець, у якому підсумовуватимуться всі дзвінки."
      ],
      "metadata": {
        "id": "r-qKni4qU37X"
      }
    },
    {
      "cell_type": "code",
      "source": [
        "churn[\"Total\"] = churn.loc[:, [\"Total day minutes\", \"Total eve minutes\", \"Total night minutes\", \"Total intl minutes\"]].sum(axis=1)\n",
        "print(f\"Штат, мешканці якого більше всього розмовляють телефоном: {churn.groupby('State')['Total'].max().sort_values().nlargest(1)}\")\n",
        "print(f\"Штат, мешканці якого меньше всього розмовляють телефоном: {churn.groupby('State')['Total'].min().sort_values().nsmallest(1)}\")"
      ],
      "metadata": {
        "colab": {
          "base_uri": "https://localhost:8080/"
        },
        "id": "mMAyw8QRVM_H",
        "outputId": "1da386dd-e016-4983-f5c7-18261c1dd392"
      },
      "execution_count": null,
      "outputs": [
        {
          "output_type": "stream",
          "name": "stdout",
          "text": [
            "Штат, мешканці якого більше всього розмовляють телефоном: State\n",
            "NY    885.0\n",
            "Name: Total, dtype: float64\n",
            "Штат, мешканці якого меньше всього розмовляють телефоном: State\n",
            "WI    284.3\n",
            "Name: Total, dtype: float64\n"
          ]
        }
      ]
    },
    {
      "cell_type": "markdown",
      "source": [
        "##7)Чи вірно, що абоненти, не лояльні до нашої компанії (churn =1) у середньому менше говорять по телефону, ніж лояльні?"
      ],
      "metadata": {
        "id": "ln6MwMzLJ2HK"
      }
    },
    {
      "cell_type": "code",
      "source": [
        "print(f\"Середнє значення для нелояльних:{churn[churn['Churn'] == 1]['Total'].mean()}\")\n",
        "print(f\"Середнє значення для лояльних:{churn[churn['Churn'] == 0]['Total'].mean()}\")\n",
        "plt.show()"
      ],
      "metadata": {
        "id": "xYqkhN2oWkoS",
        "colab": {
          "base_uri": "https://localhost:8080/"
        },
        "outputId": "75ae86a6-cac3-493b-9422-7b5c903547b5"
      },
      "execution_count": null,
      "outputs": [
        {
          "output_type": "stream",
          "name": "stdout",
          "text": [
            "Середнє значення для нелояльних:635.2559006211179\n",
            "Середнє значення для лояльних:584.5111228070175\n"
          ]
        }
      ]
    },
    {
      "cell_type": "markdown",
      "source": [
        "Бачимо, що насправді, ті люди, які в середньому довше розмовляють телефоном, більш схильні до уходу"
      ],
      "metadata": {
        "id": "f72RU2K4K-Il"
      }
    },
    {
      "cell_type": "markdown",
      "source": [
        "##8)Чи правильно, що люди, які здійснюють багато міжнародних дзвінків, набувають international plan? Подумайте, як візуалізувати цю інформацію."
      ],
      "metadata": {
        "id": "x_plc2xsLNcg"
      }
    },
    {
      "cell_type": "code",
      "source": [
        "churn[churn[\"International plan\"] == \"Yes\"][\"Total intl calls\"].plot(kind=\"hist\", alpha=0.5, label=\"Bought plan\")\n",
        "churn[churn[\"International plan\"] == \"No\"][\"Total intl calls\"].plot(kind=\"hist\", alpha=0.5, label=\"Didn't buy plan\")\n",
        "plt.xlabel(\"Number of calls\")\n",
        "plt.legend()\n",
        "plt.show()"
      ],
      "metadata": {
        "colab": {
          "base_uri": "https://localhost:8080/",
          "height": 449
        },
        "id": "GYrk9JVyKZkI",
        "outputId": "5d6d9404-01e4-460b-b3d1-ffc0d4cc06fe"
      },
      "execution_count": null,
      "outputs": [
        {
          "output_type": "display_data",
          "data": {
            "text/plain": [
              "<Figure size 640x480 with 1 Axes>"
            ],
            "image/png": "[encoded data removed]"
          },
          "metadata": {}
        }
      ]
    },
    {
      "cell_type": "markdown",
      "source": [
        "З цього графіку ми бачимо, що люди, які здійснюють більше міжнародних дзвінків, не схильні до придбання міжнародного плану\n"
      ],
      "metadata": {
        "id": "73t2XayQNGlE"
      }
    },
    {
      "cell_type": "markdown",
      "source": [
        "##9)Як пов’язані наявність голосової пошти та міжнародного плану з лояльністю абонентів? Спробуйте виказати візуально. Обчисліть лінійний коефіцієнт кореляції ( pd.Series.corr() )"
      ],
      "metadata": {
        "id": "mfUmLpvgOzE1"
      }
    },
    {
      "cell_type": "code",
      "source": [
        "import seaborn as sns"
      ],
      "metadata": {
        "id": "iyFfXns-P_Jm"
      },
      "execution_count": null,
      "outputs": []
    },
    {
      "cell_type": "code",
      "source": [
        "churn[\"Voice mail plan\"] = churn[\"Voice mail plan\"].map({\"Yes\" : 1, \"No\" : 0})\n",
        "churn[\"International plan\"] = churn[\"International plan\"].map({\"Yes\" : 1, \"No\" : 0})\n",
        "sns.heatmap(churn[[\"Voice mail plan\", \"International plan\", \"Churn\"]].corr(method='pearson'))\n",
        "plt.show()"
      ],
      "metadata": {
        "colab": {
          "base_uri": "https://localhost:8080/",
          "height": 435
        },
        "id": "rPLfICM8Lg6S",
        "outputId": "123e4e7f-39a4-4e20-a80f-2ca134894301"
      },
      "execution_count": null,
      "outputs": [
        {
          "output_type": "display_data",
          "data": {
            "text/plain": [
              "<Figure size 640x480 with 2 Axes>"
            ],
            "image/png": "[encoded data removed]"
          },
          "metadata": {}
        }
      ]
    },
    {
      "cell_type": "markdown",
      "source": [
        "З цього графіку ми бачимо, що на відтік користувачів більш впливає міжнародний план, план голосової почти майже не впливає"
      ],
      "metadata": {
        "id": "EqQMyd0gSGVD"
      }
    },
    {
      "cell_type": "markdown",
      "source": [
        "##10)Що можна сказати про взаємозв’язок кількості звернень до кол-центру та лояльності? Не забувайте про візуалізацію інформації."
      ],
      "metadata": {
        "id": "yO3Kq9VMTEYV"
      }
    },
    {
      "cell_type": "code",
      "source": [
        "churn[churn[\"Churn\"] == 1][\"Customer service calls\"].plot(kind=\"hist\", alpha=1, label=\"Churn\", bins=10)\n",
        "churn[churn[\"Churn\"] == 0][\"Customer service calls\"].plot(kind=\"hist\", alpha=0.5, label=\"Stayed\",bins=10)\n",
        "plt.legend()\n",
        "plt.plot()"
      ],
      "metadata": {
        "colab": {
          "base_uri": "https://localhost:8080/",
          "height": 447
        },
        "id": "fw2PGB-_POtW",
        "outputId": "1c730afc-2c46-4f0a-c571-46b0fa08b6ef"
      },
      "execution_count": null,
      "outputs": [
        {
          "output_type": "execute_result",
          "data": {
            "text/plain": [
              "[]"
            ]
          },
          "metadata": {},
          "execution_count": 46
        },
        {
          "output_type": "display_data",
          "data": {
            "text/plain": [
              "<Figure size 640x480 with 1 Axes>"
            ],
            "image/png": "[encoded data removed]"
          },
          "metadata": {}
        }
      ]
    },
    {
      "cell_type": "code",
      "source": [
        "print(f\"Середня кількість дзвінків для нелояльних користувачів:{churn[churn['Churn'] == 1]['Customer service calls'].mean()}\")\n",
        "print(f\"Середня кількість дзвінків для лояльних користувачів:{churn[churn['Churn'] == 0]['Customer service calls'].mean()}\")"
      ],
      "metadata": {
        "colab": {
          "base_uri": "https://localhost:8080/"
        },
        "id": "nR6s5ZE6W9oH",
        "outputId": "e740c94b-b4ab-443a-f57a-3b1c9f89c4b3"
      },
      "execution_count": null,
      "outputs": [
        {
          "output_type": "stream",
          "name": "stdout",
          "text": [
            "Середня кількість дзвінків для нелояльних користувачів:2.229813664596273\n",
            "Середня кількість дзвінків для лояльних користувачів:1.4498245614035088\n"
          ]
        }
      ]
    },
    {
      "cell_type": "markdown",
      "source": [
        "Можемо побачити, що між дзвінками до кол-центру, та відтіком є взаємозв'язок - чим більше було зроблено дзвінків до кол-центру, тим ймовірніше, що користувач нелояльний"
      ],
      "metadata": {
        "id": "wWv1k9_uYjFl"
      }
    },
    {
      "cell_type": "markdown",
      "source": [
        "Тепер, так як дані є у доброму вигляді, щоб вони не пропали просто так, давайте побудуємо логістичну регрессію та нейронну мережу, щоб потренувати її на ціх данних)"
      ],
      "metadata": {
        "id": "TaXgmNMuY9-9"
      }
    },
    {
      "cell_type": "code",
      "source": [
        "churn_20[\"Voice mail plan\"] = churn_20[\"Voice mail plan\"].map({\"Yes\" : 1, \"No\" : 0})\n",
        "churn_20[\"International plan\"] = churn_20[\"International plan\"].map({\"Yes\" : 1, \"No\" : 0})\n",
        "churn_80[\"Voice mail plan\"] = churn_80[\"Voice mail plan\"].map({\"Yes\" : 1, \"No\" : 0})\n",
        "churn_80[\"International plan\"] = churn_80[\"International plan\"].map({\"Yes\" : 1, \"No\" : 0})\n",
        "print(churn_20.info())\n",
        "print(churn_80.info())"
      ],
      "metadata": {
        "colab": {
          "base_uri": "https://localhost:8080/"
        },
        "id": "01yuMBd2Xy_5",
        "outputId": "b1bc5862-29e0-43ae-ce9a-149553774bc1"
      },
      "execution_count": null,
      "outputs": [
        {
          "output_type": "stream",
          "name": "stdout",
          "text": [
            "<class 'pandas.core.frame.DataFrame'>\n",
            "RangeIndex: 667 entries, 0 to 666\n",
            "Data columns (total 20 columns):\n",
            " #   Column                  Non-Null Count  Dtype  \n",
            "---  ------                  --------------  -----  \n",
            " 0   State                   667 non-null    object \n",
            " 1   Account length          667 non-null    int64  \n",
            " 2   Area code               667 non-null    int64  \n",
            " 3   International plan      667 non-null    int64  \n",
            " 4   Voice mail plan         667 non-null    int64  \n",
            " 5   Number vmail messages   667 non-null    int64  \n",
            " 6   Total day minutes       667 non-null    float64\n",
            " 7   Total day calls         667 non-null    int64  \n",
            " 8   Total day charge        667 non-null    float64\n",
            " 9   Total eve minutes       667 non-null    float64\n",
            " 10  Total eve calls         667 non-null    int64  \n",
            " 11  Total eve charge        667 non-null    float64\n",
            " 12  Total night minutes     667 non-null    float64\n",
            " 13  Total night calls       667 non-null    int64  \n",
            " 14  Total night charge      667 non-null    float64\n",
            " 15  Total intl minutes      667 non-null    float64\n",
            " 16  Total intl calls        667 non-null    int64  \n",
            " 17  Total intl charge       667 non-null    float64\n",
            " 18  Customer service calls  667 non-null    int64  \n",
            " 19  Churn                   667 non-null    bool   \n",
            "dtypes: bool(1), float64(8), int64(10), object(1)\n",
            "memory usage: 99.8+ KB\n",
            "None\n",
            "<class 'pandas.core.frame.DataFrame'>\n",
            "RangeIndex: 2666 entries, 0 to 2665\n",
            "Data columns (total 20 columns):\n",
            " #   Column                  Non-Null Count  Dtype  \n",
            "---  ------                  --------------  -----  \n",
            " 0   State                   2666 non-null   object \n",
            " 1   Account length          2666 non-null   int64  \n",
            " 2   Area code               2666 non-null   int64  \n",
            " 3   International plan      2666 non-null   int64  \n",
            " 4   Voice mail plan         2666 non-null   int64  \n",
            " 5   Number vmail messages   2666 non-null   int64  \n",
            " 6   Total day minutes       2666 non-null   float64\n",
            " 7   Total day calls         2666 non-null   int64  \n",
            " 8   Total day charge        2666 non-null   float64\n",
            " 9   Total eve minutes       2666 non-null   float64\n",
            " 10  Total eve calls         2666 non-null   int64  \n",
            " 11  Total eve charge        2666 non-null   float64\n",
            " 12  Total night minutes     2666 non-null   float64\n",
            " 13  Total night calls       2666 non-null   int64  \n",
            " 14  Total night charge      2666 non-null   float64\n",
            " 15  Total intl minutes      2666 non-null   float64\n",
            " 16  Total intl calls        2666 non-null   int64  \n",
            " 17  Total intl charge       2666 non-null   float64\n",
            " 18  Customer service calls  2666 non-null   int64  \n",
            " 19  Churn                   2666 non-null   bool   \n",
            "dtypes: bool(1), float64(8), int64(10), object(1)\n",
            "memory usage: 398.5+ KB\n",
            "None\n"
          ]
        }
      ]
    },
    {
      "cell_type": "code",
      "source": [
        "X_train, y_train = churn_80.loc[:, \"Account length\" : \"Customer service calls\"], churn_80[\"Churn\"]\n",
        "X_test, y_test = churn_20.loc[:, \"Account length\" : \"Customer service calls\"], churn_20[\"Churn\"]"
      ],
      "metadata": {
        "id": "_FCUIh6eZy2l"
      },
      "execution_count": null,
      "outputs": []
    },
    {
      "cell_type": "markdown",
      "source": [
        "Логистична регрессія"
      ],
      "metadata": {
        "id": "BlrJCDTbbgBN"
      }
    },
    {
      "cell_type": "code",
      "source": [
        "from sklearn.linear_model import LogisticRegression\n",
        "LR = LogisticRegression(max_iter=1000)"
      ],
      "metadata": {
        "id": "UZhUrxlBZZQk"
      },
      "execution_count": null,
      "outputs": []
    },
    {
      "cell_type": "code",
      "source": [
        "LR.fit(X_train, y_train)\n",
        "LR.predict(X_test)\n",
        "score = LR.score(X_test, y_test)\n",
        "print(\"Точність логистичної регрессії\", score)"
      ],
      "metadata": {
        "colab": {
          "base_uri": "https://localhost:8080/"
        },
        "id": "nav8pzEAboXH",
        "outputId": "8a9d2825-2634-4101-ed66-b5c3c590ab62"
      },
      "execution_count": null,
      "outputs": [
        {
          "output_type": "stream",
          "name": "stdout",
          "text": [
            "Точність логистичної регрессії 0.856071964017991\n"
          ]
        },
        {
          "output_type": "stream",
          "name": "stderr",
          "text": [
            "/usr/local/lib/python3.10/dist-packages/sklearn/linear_model/_logistic.py:458: ConvergenceWarning: lbfgs failed to converge (status=1):\n",
            "STOP: TOTAL NO. of ITERATIONS REACHED LIMIT.\n",
            "\n",
            "Increase the number of iterations (max_iter) or scale the data as shown in:\n",
            "    https://scikit-learn.org/stable/modules/preprocessing.html\n",
            "Please also refer to the documentation for alternative solver options:\n",
            "    https://scikit-learn.org/stable/modules/linear_model.html#logistic-regression\n",
            "  n_iter_i = _check_optimize_result(\n"
          ]
        }
      ]
    },
    {
      "cell_type": "markdown",
      "source": [
        "Результат звичайної логистичної регрессії використовуючи усі числові стовпці виявився досить добрим, подивимося, чи можно його покращити якщо використовувати нейронну мережу"
      ],
      "metadata": {
        "id": "KBxtl3AWcbVG"
      }
    },
    {
      "cell_type": "markdown",
      "source": [
        "Так як наша задача - бінарна класифікація, я буду використовувати сігмоїдну функцію на вихідному шарі і Relu функції на схованному, як функцію втрат я використаю двійкову перехресну ентропію"
      ],
      "metadata": {
        "id": "Nyho4YxOdGFe"
      }
    },
    {
      "cell_type": "code",
      "source": [
        "import tensorflow as tf\n",
        "tf.random.set_seed(32)\n",
        "\n",
        "\n",
        "model = tf.keras.Sequential([\n",
        "    tf.keras.layers.Dense(16, activation='relu'),\n",
        "    tf.keras.layers.Dense(1, activation='sigmoid')\n",
        "])\n",
        "\n",
        "model.compile(\n",
        "    loss=tf.keras.losses.binary_crossentropy,\n",
        "    optimizer=tf.keras.optimizers.Adam(lr=0.03),\n",
        "    metrics=[\n",
        "        tf.keras.metrics.BinaryAccuracy(name='accuracy'),\n",
        "        tf.keras.metrics.Precision(name='precision'),\n",
        "        tf.keras.metrics.Recall(name='recall')\n",
        "    ]\n",
        ")\n",
        "\n",
        "history = model.fit(X_train, y_train, epochs=100)"
      ],
      "metadata": {
        "colab": {
          "base_uri": "https://localhost:8080/"
        },
        "id": "uWt2DSztbuuY",
        "outputId": "91c309fc-3ecc-4420-b104-33e54b01c5de"
      },
      "execution_count": null,
      "outputs": [
        {
          "output_type": "stream",
          "name": "stderr",
          "text": [
            "WARNING:absl:`lr` is deprecated in Keras optimizer, please use `learning_rate` or use the legacy optimizer, e.g.,tf.keras.optimizers.legacy.Adam.\n"
          ]
        },
        {
          "output_type": "stream",
          "name": "stdout",
          "text": [
            "Epoch 1/100\n",
            "84/84 [==============================] - 2s 5ms/step - loss: 2.2182 - accuracy: 0.7851 - precision: 0.2466 - recall: 0.2320\n",
            "Epoch 2/100\n",
            "84/84 [==============================] - 0s 4ms/step - loss: 1.0266 - accuracy: 0.7832 - precision: 0.2432 - recall: 0.2320\n",
            "Epoch 3/100\n",
            "84/84 [==============================] - 0s 3ms/step - loss: 0.6516 - accuracy: 0.8158 - precision: 0.3254 - recall: 0.2474\n",
            "Epoch 4/100\n",
            "84/84 [==============================] - 0s 3ms/step - loss: 0.5152 - accuracy: 0.8166 - precision: 0.2939 - recall: 0.1856\n",
            "Epoch 5/100\n",
            "84/84 [==============================] - 0s 4ms/step - loss: 0.4537 - accuracy: 0.8380 - precision: 0.3791 - recall: 0.1778\n",
            "Epoch 6/100\n",
            "84/84 [==============================] - 0s 4ms/step - loss: 0.4608 - accuracy: 0.8406 - precision: 0.4140 - recall: 0.2294\n",
            "Epoch 7/100\n",
            "84/84 [==============================] - 0s 3ms/step - loss: 0.4803 - accuracy: 0.8275 - precision: 0.3421 - recall: 0.2010\n",
            "Epoch 8/100\n",
            "84/84 [==============================] - 0s 3ms/step - loss: 0.4317 - accuracy: 0.8402 - precision: 0.3989 - recall: 0.1933\n",
            "Epoch 9/100\n",
            "84/84 [==============================] - 0s 3ms/step - loss: 0.4326 - accuracy: 0.8417 - precision: 0.4183 - recall: 0.2242\n",
            "Epoch 10/100\n",
            "84/84 [==============================] - 0s 3ms/step - loss: 0.3862 - accuracy: 0.8507 - precision: 0.4709 - recall: 0.2088\n",
            "Epoch 11/100\n",
            "84/84 [==============================] - 0s 3ms/step - loss: 0.4022 - accuracy: 0.8443 - precision: 0.4201 - recall: 0.1830\n",
            "Epoch 12/100\n",
            "84/84 [==============================] - 0s 3ms/step - loss: 0.4165 - accuracy: 0.8402 - precision: 0.4087 - recall: 0.2191\n",
            "Epoch 13/100\n",
            "84/84 [==============================] - 0s 3ms/step - loss: 0.4082 - accuracy: 0.8473 - precision: 0.4527 - recall: 0.2345\n",
            "Epoch 14/100\n",
            "84/84 [==============================] - 0s 4ms/step - loss: 0.3862 - accuracy: 0.8496 - precision: 0.4660 - recall: 0.2294\n",
            "Epoch 15/100\n",
            "84/84 [==============================] - 0s 3ms/step - loss: 0.4411 - accuracy: 0.8353 - precision: 0.3814 - recall: 0.2113\n",
            "Epoch 16/100\n",
            "84/84 [==============================] - 0s 4ms/step - loss: 0.3995 - accuracy: 0.8462 - precision: 0.4455 - recall: 0.2320\n",
            "Epoch 17/100\n",
            "84/84 [==============================] - 0s 3ms/step - loss: 0.3993 - accuracy: 0.8440 - precision: 0.4247 - recall: 0.2036\n",
            "Epoch 18/100\n",
            "84/84 [==============================] - 0s 3ms/step - loss: 0.3714 - accuracy: 0.8500 - precision: 0.4643 - recall: 0.2010\n",
            "Epoch 19/100\n",
            "84/84 [==============================] - 0s 4ms/step - loss: 0.4108 - accuracy: 0.8447 - precision: 0.4375 - recall: 0.2345\n",
            "Epoch 20/100\n",
            "84/84 [==============================] - 0s 3ms/step - loss: 0.3990 - accuracy: 0.8503 - precision: 0.4739 - recall: 0.2577\n",
            "Epoch 21/100\n",
            "84/84 [==============================] - 0s 3ms/step - loss: 0.4169 - accuracy: 0.8477 - precision: 0.4563 - recall: 0.2423\n",
            "Epoch 22/100\n",
            "84/84 [==============================] - 0s 3ms/step - loss: 0.4243 - accuracy: 0.8466 - precision: 0.4493 - recall: 0.2397\n",
            "Epoch 23/100\n",
            "84/84 [==============================] - 0s 5ms/step - loss: 0.3890 - accuracy: 0.8533 - precision: 0.4915 - recall: 0.2242\n",
            "Epoch 24/100\n",
            "84/84 [==============================] - 0s 5ms/step - loss: 0.3794 - accuracy: 0.8530 - precision: 0.4903 - recall: 0.2603\n",
            "Epoch 25/100\n",
            "84/84 [==============================] - 0s 5ms/step - loss: 0.4026 - accuracy: 0.8582 - precision: 0.5258 - recall: 0.2629\n",
            "Epoch 26/100\n",
            "84/84 [==============================] - 0s 5ms/step - loss: 0.3623 - accuracy: 0.8533 - precision: 0.4921 - recall: 0.2397\n",
            "Epoch 27/100\n",
            "84/84 [==============================] - 0s 5ms/step - loss: 0.3960 - accuracy: 0.8470 - precision: 0.4457 - recall: 0.2113\n",
            "Epoch 28/100\n",
            "84/84 [==============================] - 0s 5ms/step - loss: 0.5549 - accuracy: 0.8132 - precision: 0.3179 - recall: 0.2474\n",
            "Epoch 29/100\n",
            "84/84 [==============================] - 0s 5ms/step - loss: 0.4120 - accuracy: 0.8511 - precision: 0.4787 - recall: 0.2603\n",
            "Epoch 30/100\n",
            "84/84 [==============================] - 0s 5ms/step - loss: 0.3684 - accuracy: 0.8563 - precision: 0.5140 - recall: 0.2371\n",
            "Epoch 31/100\n",
            "84/84 [==============================] - 0s 5ms/step - loss: 0.3852 - accuracy: 0.8496 - precision: 0.4686 - recall: 0.2500\n",
            "Epoch 32/100\n",
            "84/84 [==============================] - 0s 3ms/step - loss: 0.3814 - accuracy: 0.8567 - precision: 0.5144 - recall: 0.2758\n",
            "Epoch 33/100\n",
            "84/84 [==============================] - 0s 4ms/step - loss: 0.4094 - accuracy: 0.8436 - precision: 0.4356 - recall: 0.2526\n",
            "Epoch 34/100\n",
            "84/84 [==============================] - 0s 3ms/step - loss: 0.3614 - accuracy: 0.8575 - precision: 0.5198 - recall: 0.2706\n",
            "Epoch 35/100\n",
            "84/84 [==============================] - 0s 3ms/step - loss: 0.3915 - accuracy: 0.8470 - precision: 0.4500 - recall: 0.2320\n",
            "Epoch 36/100\n",
            "84/84 [==============================] - 0s 3ms/step - loss: 0.4042 - accuracy: 0.8530 - precision: 0.4907 - recall: 0.2706\n",
            "Epoch 37/100\n",
            "84/84 [==============================] - 0s 3ms/step - loss: 0.4764 - accuracy: 0.8260 - precision: 0.3538 - recall: 0.2371\n",
            "Epoch 38/100\n",
            "84/84 [==============================] - 0s 3ms/step - loss: 0.3631 - accuracy: 0.8578 - precision: 0.5209 - recall: 0.2887\n",
            "Epoch 39/100\n",
            "84/84 [==============================] - 0s 3ms/step - loss: 0.4103 - accuracy: 0.8507 - precision: 0.4750 - recall: 0.2448\n",
            "Epoch 40/100\n",
            "84/84 [==============================] - 0s 4ms/step - loss: 0.4034 - accuracy: 0.8500 - precision: 0.4727 - recall: 0.2680\n",
            "Epoch 41/100\n",
            "84/84 [==============================] - 0s 3ms/step - loss: 0.4259 - accuracy: 0.8477 - precision: 0.4609 - recall: 0.2732\n",
            "Epoch 42/100\n",
            "84/84 [==============================] - 0s 3ms/step - loss: 0.3790 - accuracy: 0.8545 - precision: 0.5000 - recall: 0.2474\n",
            "Epoch 43/100\n",
            "84/84 [==============================] - 0s 3ms/step - loss: 0.3884 - accuracy: 0.8503 - precision: 0.4726 - recall: 0.2448\n",
            "Epoch 44/100\n",
            "84/84 [==============================] - 0s 3ms/step - loss: 0.3971 - accuracy: 0.8530 - precision: 0.4904 - recall: 0.2629\n",
            "Epoch 45/100\n",
            "84/84 [==============================] - 0s 3ms/step - loss: 0.3893 - accuracy: 0.8507 - precision: 0.4742 - recall: 0.2371\n",
            "Epoch 46/100\n",
            "84/84 [==============================] - 0s 3ms/step - loss: 0.3764 - accuracy: 0.8481 - precision: 0.4593 - recall: 0.2474\n",
            "Epoch 47/100\n",
            "84/84 [==============================] - 0s 3ms/step - loss: 0.5810 - accuracy: 0.8185 - precision: 0.3462 - recall: 0.2784\n",
            "Epoch 48/100\n",
            "84/84 [==============================] - 0s 3ms/step - loss: 0.3935 - accuracy: 0.8470 - precision: 0.4573 - recall: 0.2758\n",
            "Epoch 49/100\n",
            "84/84 [==============================] - 0s 3ms/step - loss: 0.4732 - accuracy: 0.8372 - precision: 0.4057 - recall: 0.2552\n",
            "Epoch 50/100\n",
            "84/84 [==============================] - 0s 3ms/step - loss: 0.3956 - accuracy: 0.8402 - precision: 0.4152 - recall: 0.2397\n",
            "Epoch 51/100\n",
            "84/84 [==============================] - 0s 3ms/step - loss: 0.3743 - accuracy: 0.8646 - precision: 0.5628 - recall: 0.3119\n",
            "Epoch 52/100\n",
            "84/84 [==============================] - 0s 3ms/step - loss: 0.4048 - accuracy: 0.8440 - precision: 0.4307 - recall: 0.2242\n",
            "Epoch 53/100\n",
            "84/84 [==============================] - 0s 3ms/step - loss: 0.3955 - accuracy: 0.8481 - precision: 0.4615 - recall: 0.2629\n",
            "Epoch 54/100\n",
            "84/84 [==============================] - 0s 4ms/step - loss: 0.5062 - accuracy: 0.8297 - precision: 0.3690 - recall: 0.2397\n",
            "Epoch 55/100\n",
            "84/84 [==============================] - 0s 3ms/step - loss: 0.3905 - accuracy: 0.8537 - precision: 0.4950 - recall: 0.2552\n",
            "Epoch 56/100\n",
            "84/84 [==============================] - 0s 3ms/step - loss: 0.3991 - accuracy: 0.8458 - precision: 0.4523 - recall: 0.2809\n",
            "Epoch 57/100\n",
            "84/84 [==============================] - 0s 3ms/step - loss: 0.4318 - accuracy: 0.8410 - precision: 0.4204 - recall: 0.2448\n",
            "Epoch 58/100\n",
            "84/84 [==============================] - 0s 4ms/step - loss: 0.4319 - accuracy: 0.8383 - precision: 0.4077 - recall: 0.2448\n",
            "Epoch 59/100\n",
            "84/84 [==============================] - 0s 3ms/step - loss: 0.3836 - accuracy: 0.8593 - precision: 0.5317 - recall: 0.2809\n",
            "Epoch 60/100\n",
            "84/84 [==============================] - 0s 4ms/step - loss: 0.3874 - accuracy: 0.8530 - precision: 0.4909 - recall: 0.2784\n",
            "Epoch 61/100\n",
            "84/84 [==============================] - 0s 3ms/step - loss: 0.4547 - accuracy: 0.8421 - precision: 0.4273 - recall: 0.2500\n",
            "Epoch 62/100\n",
            "84/84 [==============================] - 0s 3ms/step - loss: 0.3813 - accuracy: 0.8500 - precision: 0.4725 - recall: 0.2655\n",
            "Epoch 63/100\n",
            "84/84 [==============================] - 0s 3ms/step - loss: 0.3861 - accuracy: 0.8515 - precision: 0.4808 - recall: 0.2577\n",
            "Epoch 64/100\n",
            "84/84 [==============================] - 0s 3ms/step - loss: 0.3695 - accuracy: 0.8556 - precision: 0.5073 - recall: 0.2680\n",
            "Epoch 65/100\n",
            "84/84 [==============================] - 0s 3ms/step - loss: 0.4150 - accuracy: 0.8451 - precision: 0.4454 - recall: 0.2629\n",
            "Epoch 66/100\n",
            "84/84 [==============================] - 0s 5ms/step - loss: 0.4599 - accuracy: 0.8350 - precision: 0.3968 - recall: 0.2577\n",
            "Epoch 67/100\n",
            "84/84 [==============================] - 0s 5ms/step - loss: 0.4014 - accuracy: 0.8488 - precision: 0.4645 - recall: 0.2526\n",
            "Epoch 68/100\n",
            "84/84 [==============================] - 0s 5ms/step - loss: 0.4003 - accuracy: 0.8515 - precision: 0.4804 - recall: 0.2526\n",
            "Epoch 69/100\n",
            "84/84 [==============================] - 0s 5ms/step - loss: 0.3816 - accuracy: 0.8575 - precision: 0.5198 - recall: 0.2706\n",
            "Epoch 70/100\n",
            "84/84 [==============================] - 0s 5ms/step - loss: 0.4270 - accuracy: 0.8421 - precision: 0.4260 - recall: 0.2448\n",
            "Epoch 71/100\n",
            "84/84 [==============================] - 0s 5ms/step - loss: 0.4478 - accuracy: 0.8398 - precision: 0.4223 - recall: 0.2732\n",
            "Epoch 72/100\n",
            "84/84 [==============================] - 0s 5ms/step - loss: 0.3663 - accuracy: 0.8571 - precision: 0.5172 - recall: 0.2706\n",
            "Epoch 73/100\n",
            "84/84 [==============================] - 0s 5ms/step - loss: 0.3639 - accuracy: 0.8552 - precision: 0.5052 - recall: 0.2500\n",
            "Epoch 74/100\n",
            "84/84 [==============================] - 0s 4ms/step - loss: 0.3886 - accuracy: 0.8530 - precision: 0.4900 - recall: 0.2526\n",
            "Epoch 75/100\n",
            "84/84 [==============================] - 0s 3ms/step - loss: 0.4159 - accuracy: 0.8432 - precision: 0.4364 - recall: 0.2655\n",
            "Epoch 76/100\n",
            "84/84 [==============================] - 0s 3ms/step - loss: 0.4488 - accuracy: 0.8432 - precision: 0.4364 - recall: 0.2655\n",
            "Epoch 77/100\n",
            "84/84 [==============================] - 0s 3ms/step - loss: 0.3714 - accuracy: 0.8533 - precision: 0.4925 - recall: 0.2526\n",
            "Epoch 78/100\n",
            "84/84 [==============================] - 0s 3ms/step - loss: 0.3686 - accuracy: 0.8575 - precision: 0.5198 - recall: 0.2706\n",
            "Epoch 79/100\n",
            "84/84 [==============================] - 0s 3ms/step - loss: 0.5042 - accuracy: 0.8293 - precision: 0.3644 - recall: 0.2320\n",
            "Epoch 80/100\n",
            "84/84 [==============================] - 0s 4ms/step - loss: 0.3839 - accuracy: 0.8492 - precision: 0.4690 - recall: 0.2732\n",
            "Epoch 81/100\n",
            "84/84 [==============================] - 0s 3ms/step - loss: 0.4074 - accuracy: 0.8481 - precision: 0.4632 - recall: 0.2758\n",
            "Epoch 82/100\n",
            "84/84 [==============================] - 0s 3ms/step - loss: 0.3724 - accuracy: 0.8522 - precision: 0.4861 - recall: 0.2706\n",
            "Epoch 83/100\n",
            "84/84 [==============================] - 0s 3ms/step - loss: 0.5269 - accuracy: 0.8245 - precision: 0.3561 - recall: 0.2552\n",
            "Epoch 84/100\n",
            "84/84 [==============================] - 0s 3ms/step - loss: 0.3891 - accuracy: 0.8518 - precision: 0.4829 - recall: 0.2552\n",
            "Epoch 85/100\n",
            "84/84 [==============================] - 0s 4ms/step - loss: 0.3789 - accuracy: 0.8518 - precision: 0.4821 - recall: 0.2423\n",
            "Epoch 86/100\n",
            "84/84 [==============================] - 0s 4ms/step - loss: 0.4032 - accuracy: 0.8458 - precision: 0.4460 - recall: 0.2448\n",
            "Epoch 87/100\n",
            "84/84 [==============================] - 0s 4ms/step - loss: 0.3681 - accuracy: 0.8503 - precision: 0.4729 - recall: 0.2474\n",
            "Epoch 88/100\n",
            "84/84 [==============================] - 0s 4ms/step - loss: 0.3655 - accuracy: 0.8571 - precision: 0.5181 - recall: 0.2577\n",
            "Epoch 89/100\n",
            "84/84 [==============================] - 0s 3ms/step - loss: 0.4006 - accuracy: 0.8530 - precision: 0.4907 - recall: 0.2732\n",
            "Epoch 90/100\n",
            "84/84 [==============================] - 0s 3ms/step - loss: 0.4058 - accuracy: 0.8477 - precision: 0.4591 - recall: 0.2603\n",
            "Epoch 91/100\n",
            "84/84 [==============================] - 0s 3ms/step - loss: 0.3860 - accuracy: 0.8530 - precision: 0.4905 - recall: 0.2655\n",
            "Epoch 92/100\n",
            "84/84 [==============================] - 0s 4ms/step - loss: 0.3942 - accuracy: 0.8485 - precision: 0.4636 - recall: 0.2629\n",
            "Epoch 93/100\n",
            "84/84 [==============================] - 0s 3ms/step - loss: 0.4072 - accuracy: 0.8443 - precision: 0.4400 - recall: 0.2552\n",
            "Epoch 94/100\n",
            "84/84 [==============================] - 0s 3ms/step - loss: 0.3966 - accuracy: 0.8537 - precision: 0.4948 - recall: 0.2448\n",
            "Epoch 95/100\n",
            "84/84 [==============================] - 0s 3ms/step - loss: 0.4564 - accuracy: 0.8383 - precision: 0.4176 - recall: 0.2809\n",
            "Epoch 96/100\n",
            "84/84 [==============================] - 0s 3ms/step - loss: 0.3698 - accuracy: 0.8560 - precision: 0.5103 - recall: 0.2552\n",
            "Epoch 97/100\n",
            "84/84 [==============================] - 0s 3ms/step - loss: 0.3851 - accuracy: 0.8503 - precision: 0.4749 - recall: 0.2680\n",
            "Epoch 98/100\n",
            "84/84 [==============================] - 0s 3ms/step - loss: 0.3812 - accuracy: 0.8496 - precision: 0.4680 - recall: 0.2448\n",
            "Epoch 99/100\n",
            "84/84 [==============================] - 0s 4ms/step - loss: 0.3801 - accuracy: 0.8515 - precision: 0.4798 - recall: 0.2448\n",
            "Epoch 100/100\n",
            "84/84 [==============================] - 0s 3ms/step - loss: 0.3778 - accuracy: 0.8545 - precision: 0.5000 - recall: 0.2526\n"
          ]
        }
      ]
    },
    {
      "cell_type": "code",
      "source": [
        "predictions = model.predict(X_test)\n",
        "predictions = predictions > 0.5\n"
      ],
      "metadata": {
        "colab": {
          "base_uri": "https://localhost:8080/"
        },
        "id": "XXVgtZDHgA4u",
        "outputId": "cb88b839-b256-4e48-82fe-c7adbaff1db8"
      },
      "execution_count": null,
      "outputs": [
        {
          "output_type": "stream",
          "name": "stdout",
          "text": [
            "21/21 [==============================] - 0s 1ms/step\n"
          ]
        }
      ]
    },
    {
      "cell_type": "code",
      "source": [
        "from sklearn.metrics import accuracy_score\n",
        "print(f\"Точність: {accuracy_score(y_test, predictions)}\")"
      ],
      "metadata": {
        "colab": {
          "base_uri": "https://localhost:8080/"
        },
        "id": "KO6rk_ZQgQd_",
        "outputId": "f7a83551-a11e-4f58-9b4a-e3596a20de01"
      },
      "execution_count": null,
      "outputs": [
        {
          "output_type": "stream",
          "name": "stdout",
          "text": [
            "Точність: 0.856071964017991\n"
          ]
        }
      ]
    },
    {
      "cell_type": "markdown",
      "source": [
        "Бачимо цікаву річ, точність моєї нейронної мережі та логистичної регрессії співпали.\n",
        "Я вважаю, що так сталося, тому що у нашому випадку кількість данних є дуже малою для нейронної мережі"
      ],
      "metadata": {
        "id": "shzr9v0PhOfq"
      }
    }
  ]
}